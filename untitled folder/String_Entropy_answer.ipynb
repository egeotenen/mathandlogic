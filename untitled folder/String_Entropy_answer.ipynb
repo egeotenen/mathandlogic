{
 "cells": [
  {
   "attachments": {},
   "cell_type": "markdown",
   "metadata": {},
   "source": [
    "# Simple String Entropy\n",
    "\n",
    "Calculate the entropy of the following string ('aabcddddefffgaaacccii')\n",
    "\n"
   ]
  },
  {
   "cell_type": "code",
   "execution_count": 2,
   "metadata": {},
   "outputs": [
    {
     "name": "stdout",
     "output_type": "stream",
     "text": [
      "freqf 3\n",
      "freqa 5\n",
      "freqc 4\n",
      "freqd 4\n",
      "freqe 1\n",
      "freqg 1\n",
      "freqi 2\n",
      "freqb 1\n"
     ]
    },
    {
     "name": "stdout",
     "output_type": "stream",
     "text": [
      "prob f 0.14285714285714285\n",
      "prob a 0.23809523809523808\n",
      "prob c 0.19047619047619047\n",
      "prob d 0.19047619047619047\n",
      "prob e 0.047619047619047616\n",
      "prob g 0.047619047619047616\n",
      "prob i 0.09523809523809523\n",
      "prob b 0.047619047619047616\n",
      "Entropy (log2) 2.7559113286549373\n"
     ]
    },
    {
     "name": "stdout",
     "output_type": "stream",
     "text": [
      "Entropy (loge) 1.9102521673303827\n"
     ]
    }
   ],
   "source": [
    "st = \"aabcddddefffgaaacccii\"  # input string\n",
    "\n",
    "#number of different characters in the string\n",
    "#println(length(Set(st)))\n",
    "\n",
    "#frequency of each character\n",
    "for i in Set(st)\n",
    "    println(\"freq\", i, \" \", count(x->x==i, st))\n",
    "end\n",
    "\n",
    "#calculate probability of each character\n",
    "for i in Set(st)\n",
    "    println(\"prob\",\" \" ,i, \" \", count(x->x==i, st)/length(st))\n",
    "end\n",
    "\n",
    "#calculate entropy with log2\n",
    "entropy_2 = 0\n",
    "for i in Set(st)\n",
    "    p = count(x->x==i, st)/length(st) #probability of each character\n",
    "    entropy_2 += -p*log2(p) #sum probabilities\n",
    "    \n",
    "end\n",
    "println(\"Entropy (log2)\", \" \", entropy_2)\n",
    "\n",
    "#calculate entopy with loge\n",
    "entropy_e = 0\n",
    "for i in Set(st)\n",
    "    p = count(x->x==i,st)/length(st)\n",
    "    entropy_e += -p*log(p) # sum probabilities\n",
    "    \n",
    "end\n",
    "println(\"Entropy (loge)\", \" \", entropy_e)\n",
    "\n",
    "\n"
   ]
  },
  {
   "cell_type": "code",
   "execution_count": 2,
   "metadata": {},
   "outputs": [
    {
     "name": "stdout",
     "output_type": "stream",
     "text": [
      "Alphabet of symbols in the string:\n"
     ]
    },
    {
     "name": "stdout",
     "output_type": "stream",
     "text": [
      "Set(['f', 'a', 'c', 'd', 'e', 'g', 'i', 'b'])\n",
      "Shannon entropy Log2:\n",
      "2.7559113286549373\n",
      "Shannon entropy, Loge:\n",
      "1.9102521673303827\n"
     ]
    }
   ],
   "source": [
    "# Add some value as 1 e somethinig like that\n",
    "\n",
    "println(\"Shannon entropy, Loge:\")\n",
    "println(ent)"
   ]
  }
 ],
 "metadata": {
  "kernelspec": {
   "display_name": "Julia 1.10.0",
   "language": "julia",
   "name": "julia-1.10"
  },
  "language_info": {
   "file_extension": ".jl",
   "mimetype": "application/julia",
   "name": "julia",
   "version": "1.10.0"
  },
  "orig_nbformat": 4
 },
 "nbformat": 4,
 "nbformat_minor": 2
}
