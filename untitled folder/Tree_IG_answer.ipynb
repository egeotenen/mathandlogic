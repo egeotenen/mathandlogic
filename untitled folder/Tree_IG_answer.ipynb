{
 "cells": [
  {
   "attachments": {},
   "cell_type": "markdown",
   "metadata": {},
   "source": [
    "# Intro to decision Trees - HOMEWORK\n",
    "\n",
    "Consider the dataset shown in the following cell that outlines how likely a person is to eat a food on the basis of three characteristics. A decision tree works in the following way. It loops over every attribute (taste, temperature, texture) and then calculates the information gained (which is the mutual information) for each potential splitting. It then splits the data along the attribute that creates the largest information gain. \n",
    "\n",
    "Suppose X is the distribution of 'yes', 'no' responses without any splits. If you split on the basis of 'taste', you will end up with three classes. You can then calculate the conditional entropy H(X|taste) and use this to calculate the information gain\n",
    "\n",
    "$ I(X,taste) = H(X) - H(X|taste) $ .\n",
    "\n",
    "Recall that one formulation of the conditional entropy (the one useful here) is\n",
    "\n",
    "$$ H(X|taste) = \\displaystyle \\sum_{t \\in taste} p(t) H(X|taste=t)  $$\n",
    "\n",
    "where the last quantity $H(X|taste = t)$ can be calculated within the propsed class. \n",
    "\n",
    "TASK: For this data, calculate and output the information gained by splitting along each of the three attributes. \n",
    "\n",
    "The one with the highest information gain would be the one chosen for the first split. For a full decision tree, you would subsequently split each class along the attribute with the largest information gain recursively until no further splitting is possible (that is, you end up with pure classes with no mixing). This can be a bit of a challenge from the perspective of managing data structures, thus you'll just be working with a library for constructing full decision trees in this HW. This is just a taste of how they work."
   ]
  },
  {
   "cell_type": "code",
   "execution_count": 51,
   "metadata": {},
   "outputs": [
    {
     "name": "stdout",
     "output_type": "stream",
     "text": [
      "\u001b[32m\u001b[1mStatus\u001b[22m\u001b[39m `~/.julia/environments/v1.10/Project.toml`\n"
     ]
    },
    {
     "name": "stdout",
     "output_type": "stream",
     "text": [
      "  \u001b[90m[a93c6f00] \u001b[39mDataFrames v1.6.1\n",
      "  \u001b[90m[7806a523] \u001b[39mDecisionTree v0.12.4\n",
      "  \u001b[90m[31c24e10] \u001b[39mDistributions v0.25.107\n",
      "  \u001b[90m[033835bb] \u001b[39mJLD2 v0.4.45\n",
      "  \u001b[90m[f0f68f2c] \u001b[39mPlotlyJS v0.18.12\n",
      "\u001b[32m⌃\u001b[39m \u001b[90m[91a5bcdd] \u001b[39mPlots v1.40.0\n",
      "  \u001b[90m[2913bbd2] \u001b[39mStatsBase v0.34.2\n",
      "  \u001b[90m[f3b207a7] \u001b[39mStatsPlots v0.15.6\n",
      "\u001b[36m\u001b[1mInfo\u001b[22m\u001b[39m Packages marked with \u001b[32m⌃\u001b[39m have new versions available and may be upgradable.\n"
     ]
    },
    {
     "name": "stderr",
     "output_type": "stream",
     "text": [
      "\u001b[32m\u001b[1m   Resolving\u001b[22m\u001b[39m package versions...\n"
     ]
    },
    {
     "name": "stderr",
     "output_type": "stream",
     "text": [
      "\u001b[32m\u001b[1m  No Changes\u001b[22m\u001b[39m to `~/.julia/environments/v1.10/Project.toml`\n",
      "\u001b[32m\u001b[1m  No Changes\u001b[22m\u001b[39m to `~/.julia/environments/v1.10/Manifest.toml`\n"
     ]
    },
    {
     "name": "stderr",
     "output_type": "stream",
     "text": [
      "\u001b[32m\u001b[1m   Resolving\u001b[22m\u001b[39m package versions...\n"
     ]
    },
    {
     "name": "stderr",
     "output_type": "stream",
     "text": [
      "\u001b[32m\u001b[1m  No Changes\u001b[22m\u001b[39m to `~/.julia/environments/v1.10/Project.toml`\n",
      "\u001b[32m\u001b[1m  No Changes\u001b[22m\u001b[39m to `~/.julia/environments/v1.10/Manifest.toml`\n"
     ]
    },
    {
     "name": "stderr",
     "output_type": "stream",
     "text": [
      "\u001b[32m\u001b[1m   Resolving\u001b[22m\u001b[39m package versions...\n"
     ]
    },
    {
     "name": "stderr",
     "output_type": "stream",
     "text": [
      "\u001b[32m\u001b[1m  No Changes\u001b[22m\u001b[39m to `~/.julia/environments/v1.10/Project.toml`\n",
      "\u001b[32m\u001b[1m  No Changes\u001b[22m\u001b[39m to `~/.julia/environments/v1.10/Manifest.toml`\n"
     ]
    },
    {
     "ename": "Pkg.Types.PkgError",
     "evalue": "The following package names could not be resolved:\n * CategproicalArrays (not found in project, manifest or registry)",
     "output_type": "error",
     "traceback": [
      "The following package names could not be resolved:\n",
      " * CategproicalArrays (not found in project, manifest or registry)\n",
      "\n",
      "Stacktrace:\n",
      " [1] pkgerror(msg::String)\n",
      "   @ Pkg.Types /Applications/Julia-1.10.app/Contents/Resources/julia/share/julia/stdlib/v1.10/Pkg/src/Types.jl:70\n",
      " [2] ensure_resolved(ctx::Pkg.Types.Context, manifest::Pkg.Types.Manifest, pkgs::Vector{Pkg.Types.PackageSpec}; registry::Bool)\n",
      "   @ Pkg.Types /Applications/Julia-1.10.app/Contents/Resources/julia/share/julia/stdlib/v1.10/Pkg/src/Types.jl:1030\n",
      " [3] ensure_resolved\n",
      "   @ /Applications/Julia-1.10.app/Contents/Resources/julia/share/julia/stdlib/v1.10/Pkg/src/Types.jl:981 [inlined]\n",
      " [4] add(ctx::Pkg.Types.Context, pkgs::Vector{Pkg.Types.PackageSpec}; preserve::Pkg.Types.PreserveLevel, platform::Base.BinaryPlatforms.Platform, kwargs::@Kwargs{io::VSCodeServer.IJuliaCore.IJuliaStdio{Base.PipeEndpoint, typeof(VSCodeServer.io_send_callback)}})\n",
      "   @ Pkg.API /Applications/Julia-1.10.app/Contents/Resources/julia/share/julia/stdlib/v1.10/Pkg/src/API.jl:267\n",
      " [5] add(pkgs::Vector{Pkg.Types.PackageSpec}; io::VSCodeServer.IJuliaCore.IJuliaStdio{Base.PipeEndpoint, typeof(VSCodeServer.io_send_callback)}, kwargs::@Kwargs{})\n",
      "   @ Pkg.API /Applications/Julia-1.10.app/Contents/Resources/julia/share/julia/stdlib/v1.10/Pkg/src/API.jl:159\n",
      " [6] add(pkgs::Vector{Pkg.Types.PackageSpec})\n",
      "   @ Pkg.API /Applications/Julia-1.10.app/Contents/Resources/julia/share/julia/stdlib/v1.10/Pkg/src/API.jl:148\n",
      " [7] add\n",
      "   @ Pkg.API /Applications/Julia-1.10.app/Contents/Resources/julia/share/julia/stdlib/v1.10/Pkg/src/API.jl:147 [inlined]\n",
      " [8] add(pkg::String)\n",
      "   @ Pkg.API /Applications/Julia-1.10.app/Contents/Resources/julia/share/julia/stdlib/v1.10/Pkg/src/API.jl:146\n",
      " [9] top-level scope\n",
      "   @ ~/Desktop/Problem_Notebooks/Tree_IG.ipynb:9"
     ]
    }
   ],
   "source": [
    "using Pkg\n",
    "Pkg.status()\n",
    "#Pkg.add(\"DataFrames\")\n",
    "using DataFrames\n",
    "using Pkg\n",
    "Pkg.add(\"DataFrames\")\n",
    "Pkg.add(\"StatsBase\")\n",
    "Pkg.add(\"DecisionTree\")\n",
    "Pkg.add(\"CategproicalArrays\")\n",
    "\n"
   ]
  },
  {
   "cell_type": "code",
   "execution_count": null,
   "metadata": {},
   "outputs": [],
   "source": []
  },
  {
   "cell_type": "code",
   "execution_count": 5,
   "metadata": {},
   "outputs": [
    {
     "name": "stdout",
     "output_type": "stream",
     "text": [
      "\u001b[1m10×4 DataFrame\u001b[0m\n",
      "\u001b[1m Row \u001b[0m│\u001b[1m Eat    \u001b[0m\u001b[1m Taste  \u001b[0m\u001b[1m Temperature \u001b[0m\u001b[1m Texture \u001b[0m\n",
      "     │\u001b[90m String \u001b[0m\u001b[90m String \u001b[0m\u001b[90m String      \u001b[0m\u001b[90m String  \u001b[0m\n",
      "─────┼──────────────────────────────────────\n",
      "   1 │ No      Salty   Hot          Soft\n",
      "   2 │ No      Spicy   Hot          Soft\n",
      "   3 │ Yes     Spicy   Hot          Hard\n",
      "   4 │ No      Spicy   Cold         Hard\n",
      "   5 │ Yes     Spicy   Hot          Hard\n",
      "   6 │ Yes     Sweet   Cold         Soft\n",
      "   7 │ No      Salty   Cold         Soft\n",
      "   8 │ Yes     Sweet   Hot          Soft\n",
      "   9 │ Yes     Spicy   Cold         Soft\n",
      "  10 │ Yes     Salty   Hot          Hard\n"
     ]
    }
   ],
   "source": [
    "\n",
    "using DataFrames\n",
    "\n",
    "dataset = Dict(\n",
    "    \"Taste\" => [\"Salty\", \"Spicy\", \"Spicy\", \"Spicy\", \"Spicy\", \"Sweet\", \"Salty\", \"Sweet\", \"Spicy\", \"Salty\"],\n",
    "    \"Temperature\" => [\"Hot\", \"Hot\", \"Hot\", \"Cold\", \"Hot\", \"Cold\", \"Cold\", \"Hot\", \"Cold\", \"Hot\"],\n",
    "    \"Texture\" => [\"Soft\", \"Soft\", \"Hard\", \"Hard\", \"Hard\", \"Soft\", \"Soft\", \"Soft\", \"Soft\", \"Hard\"],\n",
    "    \"Eat\" => [\"No\", \"No\", \"Yes\", \"No\", \"Yes\", \"Yes\", \"No\", \"Yes\", \"Yes\", \"Yes\"]\n",
    ")\n",
    "\n",
    "df = DataFrame(dataset)\n",
    "\n",
    "println(first(df, 10))\n"
   ]
  },
  {
   "cell_type": "code",
   "execution_count": 30,
   "metadata": {},
   "outputs": [
    {
     "name": "stdout",
     "output_type": "stream",
     "text": [
      "Total Entropy Log e = \n"
     ]
    },
    {
     "data": {
      "text/plain": [
       "0.9709505941661296"
      ]
     },
     "metadata": {},
     "output_type": "display_data"
    }
   ],
   "source": [
    "using DataFrames\n",
    "using StatsBase\n",
    "\n",
    "println(\"Total Entropy Log e = \")\n",
    "#calculate the entropy of the dataset\n",
    "function entropy(labels)\n",
    "    counts = countmap(labels)\n",
    "    #println(counts)\n",
    "    probs = values(counts) ./ sum(values(counts))\n",
    "   #println(probs)\n",
    "   epsilon = 1e-10\n",
    "   return -sum(p * log2(p + epsilon) for p in probs if p > 0)\n",
    "end\n",
    "\n",
    "total_ent = entropy(df.Eat)\n"
   ]
  },
  {
   "cell_type": "code",
   "execution_count": 43,
   "metadata": {},
   "outputs": [
    {
     "name": "stdout",
     "output_type": "stream",
     "text": [
      "Labels: [\"No\", \"No\", \"Yes\", \"No\", \"Yes\", \"Yes\", \"No\", \"Yes\", \"Yes\", \"Yes\"]\n",
      "Total Entropy: 0.9709505941661296\n",
      "Attribute: Taste\n",
      "Unique Values: [\"Salty\", \"Spicy\", \"Sweet\"]\n",
      "Total Count: 10\n"
     ]
    },
    {
     "name": "stdout",
     "output_type": "stream",
     "text": [
      "Weighted Entropy: 0.7609640471839959\n",
      "Conditional Entropy: 0.7609640471839959\n",
      "Taste Information Gain = 0.2099865469821337 \n",
      "\n",
      "Labels: [\"No\", \"No\", \"Yes\", \"No\", \"Yes\", \"Yes\", \"No\", \"Yes\", \"Yes\", \"Yes\"]\n",
      "Total Entropy: 0.9709505941661296\n",
      "Attribute: Temperature\n",
      "Unique Values: [\"Hot\", \"Cold\"]\n",
      "Total Count: 10\n",
      "Weighted Entropy: 0.9509775001441545\n",
      "Conditional Entropy: 0.9509775001441545\n",
      "Temperature Information Gain = 0.019973094021975113 \n",
      "\n",
      "Labels: [\"No\", \"No\", \"Yes\", \"No\", \"Yes\", \"Yes\", \"No\", \"Yes\", \"Yes\", \"Yes\"]\n",
      "Total Entropy: 0.9709505941661296\n",
      "Attribute: Texture\n",
      "Unique Values: [\"Soft\", \"Hard\"]\n",
      "Total Count: 10\n",
      "Weighted Entropy: 0.9245112494951141\n",
      "Conditional Entropy: 0.9245112494951141\n",
      "Texture Information Gain = 0.046439344671015514 \n",
      "\n"
     ]
    }
   ],
   "source": [
    "\n",
    "# Conditional Entropy \n",
    "function conditional_entropy(df, attribute_name)\n",
    "    labels = df[!,:Eat]  \n",
    "    attribute = df[!, attribute_name] \n",
    "    println(\"Attribute: $attribute_name\")\n",
    "    unique_values = unique(attribute)\n",
    "    println(\"Unique Values: $unique_values\")\n",
    "    total_count = length(labels)\n",
    "    println(\"Total Count: $total_count\")\n",
    "    weighted_entropy = sum((count(==(v), attribute) / total_count) * entropy(df[attribute .== v, :Eat]) for v in unique_values)\n",
    "    println(\"Weighted Entropy: $weighted_entropy\")\n",
    "    return weighted_entropy\n",
    "end\n",
    "\n",
    "# Modified Information Gain Function\n",
    "function information_gain(df, attribute_name)\n",
    "    labels = df[!,:Eat] \n",
    "    println(\"Labels: $labels\")\n",
    "    total_entropy = entropy(labels)\n",
    "    println(\"Total Entropy: $total_entropy\")\n",
    "    cond_entropy = conditional_entropy(df, attribute_name)\n",
    "    println(\"Conditional Entropy: $cond_entropy\")\n",
    "    return total_entropy - cond_entropy\n",
    "end\n",
    "\n",
    "# Assuming df is your DataFrame\n",
    "attribute_list = [:Taste, :Temperature, :Texture]  # Using symbols for DataFrame column names\n",
    "\n",
    "# Corrected loop for calculating and printing information gain for each attribute\n",
    "for attribute in attribute_list\n",
    "    ig = information_gain(df, attribute)\n",
    "    println(\"$attribute Information Gain = $ig \\n\")\n",
    "\n",
    "\n",
    "\n",
    "end\n",
    "\n"
   ]
  },
  {
   "cell_type": "code",
   "execution_count": 56,
   "metadata": {},
   "outputs": [
    {
     "name": "stderr",
     "output_type": "stream",
     "text": [
      "\u001b[32m\u001b[1m   Resolving\u001b[22m\u001b[39m package versions...\n"
     ]
    },
    {
     "name": "stderr",
     "output_type": "stream",
     "text": [
      "\u001b[32m\u001b[1m  No Changes\u001b[22m\u001b[39m to `~/.julia/environments/v1.10/Project.toml`\n",
      "\u001b[32m\u001b[1m  No Changes\u001b[22m\u001b[39m to `~/.julia/environments/v1.10/Manifest.toml`\n"
     ]
    },
    {
     "name": "stderr",
     "output_type": "stream",
     "text": [
      "\u001b[32m\u001b[1m   Resolving\u001b[22m\u001b[39m package versions...\n"
     ]
    },
    {
     "name": "stderr",
     "output_type": "stream",
     "text": [
      "\u001b[32m\u001b[1m  No Changes\u001b[22m\u001b[39m to `~/.julia/environments/v1.10/Project.toml`\n",
      "\u001b[32m\u001b[1m  No Changes\u001b[22m\u001b[39m to `~/.julia/environments/v1.10/Manifest.toml`\n"
     ]
    },
    {
     "name": "stderr",
     "output_type": "stream",
     "text": [
      "\u001b[32m\u001b[1m   Resolving\u001b[22m\u001b[39m package versions...\n"
     ]
    },
    {
     "name": "stderr",
     "output_type": "stream",
     "text": [
      "\u001b[32m\u001b[1m   Installed\u001b[22m\u001b[39m WorkerUtilities ─ v1.6.1\n"
     ]
    },
    {
     "name": "stderr",
     "output_type": "stream",
     "text": [
      "\u001b[32m\u001b[1m   Installed\u001b[22m\u001b[39m WeakRefStrings ── v1.4.2\n"
     ]
    },
    {
     "name": "stderr",
     "output_type": "stream",
     "text": [
      "\u001b[32m\u001b[1m   Installed\u001b[22m\u001b[39m FilePathsBase ─── v0.9.21\n"
     ]
    },
    {
     "name": "stderr",
     "output_type": "stream",
     "text": [
      "\u001b[32m\u001b[1m   Installed\u001b[22m\u001b[39m CSV ───────────── v0.10.12\n"
     ]
    },
    {
     "name": "stderr",
     "output_type": "stream",
     "text": [
      "\u001b[32m\u001b[1m    Updating\u001b[22m\u001b[39m `~/.julia/environments/v1.10/Project.toml`\n",
      "  \u001b[90m[336ed68f] \u001b[39m\u001b[92m+ CSV v0.10.12\u001b[39m\n",
      "\u001b[32m\u001b[1m    Updating\u001b[22m\u001b[39m `~/.julia/environments/v1.10/Manifest.toml`\n",
      " "
     ]
    },
    {
     "name": "stderr",
     "output_type": "stream",
     "text": [
      " \u001b[90m[336ed68f] \u001b[39m\u001b[92m+ CSV v0.10.12\u001b[39m\n",
      "  \u001b[90m[48062228] \u001b[39m\u001b[92m+ FilePathsBase v0.9.21\u001b[39m\n",
      "  \u001b[90m[ea10d353] \u001b[39m\u001b[92m+ WeakRefStrings v1.4.2\u001b[39m\n",
      "  \u001b[90m[76eceee3] \u001b[39m\u001b[92m+ WorkerUtilities v1.6.1\u001b[39m\n"
     ]
    },
    {
     "name": "stderr",
     "output_type": "stream",
     "text": [
      "\u001b[32m\u001b[1mPrecompiling\u001b[22m\u001b[39m "
     ]
    },
    {
     "name": "stderr",
     "output_type": "stream",
     "text": [
      "project...\n"
     ]
    },
    {
     "name": "stderr",
     "output_type": "stream",
     "text": [
      "\u001b[32m  ✓ \u001b[39m\u001b[90mWorkerUtilities\u001b[39m\n"
     ]
    },
    {
     "name": "stderr",
     "output_type": "stream",
     "text": [
      "\u001b[32m  ✓ \u001b[39m\u001b[90mWeakRefStrings\u001b[39m\n"
     ]
    },
    {
     "name": "stderr",
     "output_type": "stream",
     "text": [
      "\u001b[32m  ✓ \u001b[39m\u001b[90mFilePathsBase\u001b[39m\n"
     ]
    },
    {
     "name": "stderr",
     "output_type": "stream",
     "text": [
      "\u001b[32m  ✓ \u001b[39mCSV\n",
      "  4 dependencies successfully precompiled in 19 seconds. 243 already precompiled.\n",
      "\u001b[32m\u001b[1m   Resolving\u001b[22m\u001b[39m package versions...\n"
     ]
    },
    {
     "name": "stderr",
     "output_type": "stream",
     "text": [
      "\u001b[32m\u001b[1m   Installed\u001b[22m\u001b[39m CategoricalArrays ─ v0.10.8\n"
     ]
    },
    {
     "name": "stderr",
     "output_type": "stream",
     "text": [
      "\u001b[32m\u001b[1m    Updating\u001b[22m\u001b[39m `~/.julia/environments/v1.10/Project.toml`\n",
      "  \u001b[90m[324d7699] \u001b[39m\u001b[92m+ CategoricalArrays v0.10.8\u001b[39m\n",
      "\u001b[32m\u001b[1m    Updating\u001b[22m\u001b[39m `~/.julia/environments/v1.10/Manifest.toml`\n",
      " "
     ]
    },
    {
     "name": "stderr",
     "output_type": "stream",
     "text": [
      " \u001b[90m[324d7699] \u001b[39m\u001b[92m+ CategoricalArrays v0.10.8\u001b[39m\n"
     ]
    },
    {
     "name": "stderr",
     "output_type": "stream",
     "text": [
      "\u001b[32m\u001b[1mPrecompiling\u001b[22m\u001b[39m "
     ]
    },
    {
     "name": "stderr",
     "output_type": "stream",
     "text": [
      "project...\n"
     ]
    },
    {
     "name": "stderr",
     "output_type": "stream",
     "text": [
      "\u001b[32m  ✓ \u001b[39mCategoricalArrays\n"
     ]
    },
    {
     "name": "stderr",
     "output_type": "stream",
     "text": [
      "\u001b[32m  ✓ \u001b[39m\u001b[90mCategoricalArrays → CategoricalArraysRecipesBaseExt\u001b[39m\n"
     ]
    },
    {
     "name": "stderr",
     "output_type": "stream",
     "text": [
      "\u001b[32m  ✓ \u001b[39m\u001b[90mCategoricalArrays → CategoricalArraysSentinelArraysExt\u001b[39m\n"
     ]
    },
    {
     "name": "stderr",
     "output_type": "stream",
     "text": [
      "\u001b[32m  ✓ \u001b[39m\u001b[90mCategoricalArrays → CategoricalArraysJSONExt\u001b[39m\n",
      "  4 dependencies successfully precompiled in 6 seconds. 247 already precompiled.\n"
     ]
    }
   ],
   "source": [
    "using Pkg\n",
    "Pkg.add(\"DecisionTree\")\n",
    "Pkg.add(\"DataFrames\")\n",
    "Pkg.add(\"CategoricalArrays\")  # For handling categorical variables\n",
    "\n"
   ]
  },
  {
   "cell_type": "code",
   "execution_count": null,
   "metadata": {},
   "outputs": [],
   "source": [
    "# Initialize and train the classifier\n",
    "model = DecisionTreeClassifier(max_depth=5)  # You can adjust max_depth as needed\n",
    "DecisionTree.fit!(model, features, labels)\n",
    "\n",
    "# To visualize the tree\n",
    "println(DecisionTree.print_tree(model))\n"
   ]
  },
  {
   "cell_type": "code",
   "execution_count": 60,
   "metadata": {},
   "outputs": [
    {
     "name": "stdout",
     "output_type": "stream",
     "text": [
      "Feature 1 < 3.0 ?\n",
      "├─ Feature 3 < 2.0 ?\n",
      "    ├─ Feature 2 < 2.0 ?\n",
      "        ├─ 1 : 1/1\n",
      "        └─ 2 : 3/3\n",
      "    └─ Feature 1 < 2.0 ?\n",
      "        ├─ 1 : 2/2\n",
      "        └─ Feature 2 < 2.0 ?\n",
      "            ├─ 2 : 1/1\n",
      "            └─ 1 : 1/1\n",
      "└─ 2 : 2/2\n",
      "nothing\n"
     ]
    }
   ],
   "source": [
    "using DataFrames, DecisionTree, CategoricalArrays\n",
    "\n",
    "# Assuming 'df' is your DataFrame\n",
    "# Convert categorical features and the target variable to categorical arrays with integer codes\n",
    "df.Taste = categorical(df.Taste, compress=true)\n",
    "df.Temperature = categorical(df.Temperature, compress=true)\n",
    "df.Texture = categorical(df.Texture, compress=true)\n",
    "df.Eat = categorical(df.Eat, compress=true)\n",
    "\n",
    "# Convert categories to integer codes\n",
    "df.Taste = CategoricalArrays.levelcode.(df.Taste)\n",
    "df.Temperature = CategoricalArrays.levelcode.(df.Temperature)\n",
    "df.Texture = CategoricalArrays.levelcode.(df.Texture)\n",
    "df.Eat = CategoricalArrays.levelcode.(df.Eat)\n",
    "\n",
    "# Prepare the features and labels for the model\n",
    "features = Matrix(df[:, [:Taste, :Temperature, :Texture]])\n",
    "labels = df[:, :Eat]\n",
    "\n",
    "# Initialize and train the classifier\n",
    "model = DecisionTreeClassifier(max_depth=5)  # Adjust max_depth as needed\n",
    "DecisionTree.fit!(model, features, labels)\n",
    "\n",
    "# To visualize the tree\n",
    "println(DecisionTree.print_tree(model))\n"
   ]
  }
 ],
 "metadata": {
  "kernelspec": {
   "display_name": "Julia 1.10.0",
   "language": "julia",
   "name": "julia-1.10"
  },
  "language_info": {
   "file_extension": ".jl",
   "mimetype": "application/julia",
   "name": "julia",
   "version": "1.10.0"
  },
  "orig_nbformat": 4
 },
 "nbformat": 4,
 "nbformat_minor": 2
}
