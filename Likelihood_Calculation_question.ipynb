{
 "cells": [
  {
   "attachments": {},
   "cell_type": "markdown",
   "metadata": {},
   "source": [
    "\"\"\"\n",
    "Here you are going to compute the probabilistic likelihood of data for \n",
    "    two distributions. The below code reads in a vector of 100 data points.\n",
    "    You have two tasks here. 1) Calculate the likelihood of this data coming\n",
    "    from a Normal distribution. 2) Calculate the likelihood of this data coming\n",
    "    from a Uniform distribution. 3) Finally, you will compute the \"likelihood ratio\".\n",
    "    This is just the ratio of the two likelhoods. Remember, a larger likelihood\n",
    "    indicates that the data is more likely to have come from that distribution.\n",
    "\n",
    "Uniform model\n",
    "    1) Calculate the minimum (a) and maximum (b) of the data.\n",
    "    2) Construct a uniform distribution with these extremes.\n",
    "    3) Use that distribution to construct the likelihood of this data.\n",
    "    4) Wrap this in a function \"uniform_likelihood_calc(data)\"\n",
    "        that outputs the total likelihood.\n",
    "    5) Evaluate that function on the data.\n",
    "\n",
    "Normal model\n",
    "    1) Calculate the mean(μ) and standard deviation (σ) of the data.\n",
    "    2) Construct a Normal distribution with these parameters.\n",
    "    3) Use that distribution to construct the likelihood of this data.\n",
    "    4) Wrap this in a function \"normal_likelihood_calc(data)\"\n",
    "        that outputs the total likelihood.\n",
    "    5) Evaluate that function on the data.\n",
    "\n",
    "Finally, use these two functions to evaluate the likelihood ratio.\n",
    "\n",
    "Which distribution better matches the structure of this data??\n",
    "\n",
    "\"\"\""
   ]
  },
  {
   "cell_type": "code",
   "execution_count": 16,
   "metadata": {},
   "outputs": [
    {
     "name": "stdout",
     "output_type": "stream",
     "text": [
      "\u001b[32m\u001b[1mStatus\u001b[22m\u001b[39m `~/Dropbox/All_Work_Files/Teaching/2024/Q520/Codes/Q520_Winter24_Env/Project.toml`\n",
      "  \u001b[90m[336ed68f] \u001b[39mCSV v0.10.11\n",
      "  \u001b[90m[31c24e10] \u001b[39mDistributions v0.25.104\n",
      "\u001b[32m⌃\u001b[39m \u001b[90m[033835bb] \u001b[39mJLD2 v0.4.38\n",
      "  \u001b[90m[91a5bcdd] \u001b[39mPlots v1.39.0\n",
      "  \u001b[90m[f3b207a7] \u001b[39mStatsPlots v0.15.6\n",
      "  \u001b[90m[37e2e46d] \u001b[39mLinearAlgebra\n",
      "  \u001b[90m[9a3f8284] \u001b[39mRandom\n",
      "\u001b[36m\u001b[1mInfo\u001b[22m\u001b[39m Packages marked with \u001b[32m⌃\u001b[39m have new versions available and may be upgradable.\n"
     ]
    }
   ],
   "source": [
    "using Pkg\n",
    "Pkg.instantiate()\n",
    "Pkg.status()"
   ]
  },
  {
   "cell_type": "code",
   "execution_count": 17,
   "metadata": {},
   "outputs": [],
   "source": [
    "using Distributions\n",
    "using Plots\n",
    "using Random\n",
    "using JLD2\n",
    "\n",
    "Random.seed!(1234);"
   ]
  },
  {
   "cell_type": "code",
   "execution_count": 24,
   "metadata": {},
   "outputs": [
    {
     "data": {
      "text/plain": [
       "100-element Vector{Float64}:\n",
       "  1.5972424026826477\n",
       " -1.7741176410029897\n",
       "  9.442721649109373\n",
       " -9.701823014298\n",
       "  0.40709987447435836\n",
       "  2.791231993605468\n",
       "  6.792438681161421\n",
       "  9.34285537830766\n",
       "  5.795288190702614\n",
       "  3.920813962878004\n",
       "  ⋮\n",
       " -7.503055205511268\n",
       "  9.872175725051665\n",
       " -8.626857487848499\n",
       "  9.067230197335967\n",
       " -0.31326693032862174\n",
       " -7.379486875582819\n",
       "  8.92906452462767\n",
       "  1.4864697055663498\n",
       "  3.5529981519915577"
      ]
     },
     "metadata": {},
     "output_type": "display_data"
    }
   ],
   "source": [
    "n = 100;\n",
    "\n",
    "data_load = load(\"Likelihood_calc_data.jld2\");\n",
    "data = data_load[\"data\"]"
   ]
  },
  {
   "cell_type": "code",
   "execution_count": 25,
   "metadata": {},
   "outputs": [
    {
     "data": {
      "text/plain": [
       "normal_likelihood_calc (generic function with 1 method)"
      ]
     },
     "metadata": {},
     "output_type": "display_data"
    }
   ],
   "source": [
    "function normal_likelihood_calc(data)\n",
    "    \n",
    "\n",
    "    return normal_likelihood\n",
    "end"
   ]
  },
  {
   "cell_type": "code",
   "execution_count": 20,
   "metadata": {},
   "outputs": [],
   "source": [
    "function uniform_likelihood_calc(data)\n",
    "    \n",
    "    return unif_likelihood\n",
    "end"
   ]
  },
  {
   "cell_type": "code",
   "execution_count": 21,
   "metadata": {},
   "outputs": [],
   "source": [
    "normal_likelihood = normal_likelihood_calc(data)\n",
    "unif_likelihood = uniform_likelihood_calc(data)\n",
    "\n",
    "likelihood_ratio = unif_likelihood / normal_likelihood"
   ]
  },
  {
   "cell_type": "code",
   "execution_count": 22,
   "metadata": {},
   "outputs": [],
   "source": [
    "\"\"\"\n",
    "Did this data more likely come from the uniform or normal distribution.\n",
    "\n",
    "\"\"\""
   ]
  },
  {
   "cell_type": "code",
   "execution_count": 23,
   "metadata": {},
   "outputs": [],
   "source": []
  },
  {
   "cell_type": "code",
   "execution_count": null,
   "metadata": {},
   "outputs": [],
   "source": []
  }
 ],
 "metadata": {
  "kernelspec": {
   "display_name": "Julia 1.10.0",
   "language": "julia",
   "name": "julia-1.10"
  },
  "language_info": {
   "file_extension": ".jl",
   "mimetype": "application/julia",
   "name": "julia",
   "version": "1.10.0"
  },
  "orig_nbformat": 4
 },
 "nbformat": 4,
 "nbformat_minor": 2
}
