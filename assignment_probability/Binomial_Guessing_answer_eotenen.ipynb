{
 "cells": [
  {
   "attachments": {},
   "cell_type": "markdown",
   "metadata": {},
   "source": [
    "\"\"\"\n",
    "Here we're going to look at the binomial distribution.\n",
    "\n",
    "Suppose you gave a test with 50 questions and 5 multiple-choice\n",
    "responses per question. If a student gets 16 correct, can you confidently strategy\n",
    "they have learned something. More precisely, what is the probability of a student\n",
    "would get 1-16 questions correct if they were randomly guessing.\n",
    "\n",
    "For this question, write a function \"probability_of_fewer(n)\" that takes in\n",
    "the number of correct questions and outputs the probability of getting 1-n correct\n",
    "if randomly guessing. Then evaluate this function at n=16. You can use the \n",
    "Distributions.jl package for this as it contains the binomial distribution.\n",
    "\n",
    "\n",
    "\"\"\""
   ]
  },
  {
   "cell_type": "code",
   "execution_count": 1,
   "metadata": {},
   "outputs": [
    {
     "name": "stdout",
     "output_type": "stream",
     "text": [
      "\u001b[32m\u001b[1mStatus\u001b[22m\u001b[39m `~/.julia/environments/v1.10/Project.toml`\n",
      "  \u001b[90m[31c24e10] \u001b[39mDistributions v0.25.107\n",
      "  \u001b[90m[f3b207a7] \u001b[39mStatsPlots v0.15.6\n"
     ]
    }
   ],
   "source": [
    "using Pkg\n",
    "Pkg.instantiate()\n",
    "Pkg.status()"
   ]
  },
  {
   "cell_type": "code",
   "execution_count": 2,
   "metadata": {},
   "outputs": [],
   "source": [
    "using Distributions"
   ]
  },
  {
   "cell_type": "code",
   "execution_count": 3,
   "metadata": {},
   "outputs": [
    {
     "name": "stdout",
     "output_type": "stream",
     "text": [
      "0.9855440702058161\n"
     ]
    }
   ],
   "source": [
    "using Distributions\n",
    "\n",
    "function probability_of_fewer(n; total_questions=50, choices_per_question=5)\n",
    "    probability_of_success = 1 / choices_per_question\n",
    "    #Binomial (n, p) = Binomial (total_questions, probability_of_success)\n",
    "probability = sum(pdf(Binomial(total_questions, probability_of_success), k) for k in 1:n)\n",
    "    return probability\n",
    "end\n",
    "\n",
    "# Calculate the probability of getting 1 to 16 questions correct by random guessing\n",
    "probability_of_fewer_16 = probability_of_fewer(16)\n",
    "println(probability_of_fewer_16)\n",
    "\n",
    "#You can see probability printed below\n"
   ]
  }
 ],
 "metadata": {
  "kernelspec": {
   "display_name": "Julia 1.10.0",
   "language": "julia",
   "name": "julia-1.10"
  },
  "language_info": {
   "file_extension": ".jl",
   "mimetype": "application/julia",
   "name": "julia",
   "version": "1.10.0"
  },
  "orig_nbformat": 4
 },
 "nbformat": 4,
 "nbformat_minor": 2
}
