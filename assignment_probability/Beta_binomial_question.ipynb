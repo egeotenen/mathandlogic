{
 "cells": [
  {
   "attachments": {},
   "cell_type": "markdown",
   "metadata": {},
   "source": [
    "\n",
    "\"\"\"\n",
    "In this problem, you will work with the beta-binomial model, which is a common way\n",
    "    of modeling probabilistic beliefs.\n",
    "\n",
    "Suppose you have a political candidate and you are running their polling. Past polls\n",
    "    have indicated 55-65% support. On the basis of these past polls, you assign the\n",
    "    distribution Beta(40,27) as the probabilistic belief on support levels.\n",
    "\n",
    "A new poll just came in that found 108/200 (54%) of participants support your candidate.\n",
    "    We'll assume that this can be well modeled by a standard binomial distribution.\n",
    "\n",
    "On the basis of this new poll, how should you update your distribution of possible support\n",
    "    levels?\n",
    "\n",
    "Part 1:\n",
    "Defne the appropriate prior distribution using Distributions.jl. Plot this distribution\n",
    "    and output the mean and standard eviation of that prior distribution. \n",
    "    This is your prior expectation and uncertainty.\n",
    "\n",
    "Part 2:\n",
    "Calculate the posterior distribution for this problem. Overlay a plot of the posterior\n",
    "    on the same axes as the prior. Now calculate the mean and standard deviation of the\n",
    "    posterior.\n",
    "\n",
    "How much did this new poll change your expected level of support for the candidate?\n",
    "\n",
    "Note that this is over-simplified and poll modeling is much, much more complex.\n",
    "    These are the basic building blocks though!\n",
    "\n",
    "\"\"\""
   ]
  },
  {
   "cell_type": "code",
   "execution_count": 1,
   "metadata": {},
   "outputs": [
    {
     "name": "stdout",
     "output_type": "stream",
     "text": [
      "\u001b[32m\u001b[1mStatus\u001b[22m\u001b[39m `~/Dropbox/All_Work_Files/Teaching/2024/Q520/Codes/Q520_Winter24_Env/Project.toml`\n",
      "  \u001b[90m[336ed68f] \u001b[39mCSV v0.10.11\n",
      "  \u001b[90m[31c24e10] \u001b[39mDistributions v0.25.104\n",
      "\u001b[32m⌃\u001b[39m \u001b[90m[033835bb] \u001b[39mJLD2 v0.4.38\n",
      "  \u001b[90m[91a5bcdd] \u001b[39mPlots v1.39.0\n",
      "  \u001b[90m[f3b207a7] \u001b[39mStatsPlots v0.15.6\n",
      "  \u001b[90m[37e2e46d] \u001b[39mLinearAlgebra\n",
      "  \u001b[90m[9a3f8284] \u001b[39mRandom\n",
      "\u001b[36m\u001b[1mInfo\u001b[22m\u001b[39m Packages marked with \u001b[32m⌃\u001b[39m have new versions available and may be upgradable.\n"
     ]
    }
   ],
   "source": [
    "using Pkg\n",
    "Pkg.instantiate()\n",
    "Pkg.status()"
   ]
  },
  {
   "cell_type": "code",
   "execution_count": 2,
   "metadata": {},
   "outputs": [],
   "source": [
    "using Distributions\n",
    "using StatsPlots"
   ]
  },
  {
   "cell_type": "code",
   "execution_count": null,
   "metadata": {},
   "outputs": [],
   "source": [
    "# If you define a prior and posterior distribution correctly using Distributions.jl\n",
    "# these lines will plot them for you.\n",
    "plot(prior,xlims=(0,1),color = \"black\",label = \"prior\")\n",
    "plot!(posterior,xlims=(0,1),color = \"red\",label = \"posterior\")"
   ]
  }
 ],
 "metadata": {
  "kernelspec": {
   "display_name": "Julia 1.10.0",
   "language": "julia",
   "name": "julia-1.10"
  },
  "language_info": {
   "file_extension": ".jl",
   "mimetype": "application/julia",
   "name": "julia",
   "version": "1.10.0"
  },
  "orig_nbformat": 4
 },
 "nbformat": 4,
 "nbformat_minor": 2
}
