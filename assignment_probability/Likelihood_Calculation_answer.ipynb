{
 "cells": [
  {
   "attachments": {},
   "cell_type": "markdown",
   "metadata": {},
   "source": [
    "\"\"\"\n",
    "Here you are going to compute the probabilistic likelihood of data for \n",
    "    two distributions. The below code reads in a vector of 100 data points.\n",
    "    You have two tasks here. 1) Calculate the likelihood of this data coming\n",
    "    from a Normal distribution. 2) Calculate the likelihood of this data coming\n",
    "    from a Uniform distribution. 3) Finally, you will compute the \"likelihood ratio\".\n",
    "    This is just the ratio of the two likelhoods. Remember, a larger likelihood\n",
    "    indicates that the data is more likely to have come from that distribution.\n",
    "\n",
    "Uniform model\n",
    "    1) Calculate the minimum (a) and maximum (b) of the data.\n",
    "    2) Construct a uniform distribution with these extremes.\n",
    "    3) Use that distribution to construct the likelihood of this data.\n",
    "    4) Wrap this in a function \"uniform_likelihood_calc(data)\"\n",
    "        that outputs the total likelihood.\n",
    "    5) Evaluate that function on the data.\n",
    "\n",
    "Normal model\n",
    "    1) Calculate the mean(μ) and standard deviation (σ) of the data.\n",
    "    2) Construct a Normal distribution with these parameters.\n",
    "    3) Use that distribution to construct the likelihood of this data.\n",
    "    4) Wrap this in a function \"normal_likelihood_calc(data)\"\n",
    "        that outputs the total likelihood.\n",
    "    5) Evaluate that function on the data.\n",
    "\n",
    "Finally, use these two functions to evaluate the likelihood ratio.\n",
    "\n",
    "Which distribution better matches the structure of this data??\n",
    "\n",
    "\"\"\""
   ]
  },
  {
   "cell_type": "code",
   "execution_count": 1,
   "metadata": {},
   "outputs": [
    {
     "name": "stdout",
     "output_type": "stream",
     "text": [
      "\u001b[32m\u001b[1mStatus\u001b[22m\u001b[39m `~/.julia/environments/v1.10/Project.toml`\n",
      "  \u001b[90m[31c24e10] \u001b[39mDistributions v0.25.107\n",
      "  \u001b[90m[033835bb] \u001b[39mJLD2 v0.4.45\n",
      "  \u001b[90m[f0f68f2c] \u001b[39mPlotlyJS v0.18.12\n",
      "  \u001b[90m[91a5bcdd] \u001b[39mPlots v1.40.0\n",
      "  \u001b[90m[f3b207a7] \u001b[39mStatsPlots v0.15.6\n"
     ]
    }
   ],
   "source": [
    "using Pkg\n",
    "Pkg.instantiate()\n",
    "Pkg.status()"
   ]
  },
  {
   "cell_type": "code",
   "execution_count": 2,
   "metadata": {},
   "outputs": [],
   "source": [
    "using Distributions\n",
    "using Plots\n",
    "using Random\n",
    "using JLD2\n",
    "\n",
    "Random.seed!(1234);"
   ]
  },
  {
   "cell_type": "code",
   "execution_count": 24,
   "metadata": {},
   "outputs": [
    {
     "data": {
      "text/plain": [
       "100-element Vector{Float64}:\n",
       "  1.5972424026826477\n",
       " -1.7741176410029897\n",
       "  9.442721649109373\n",
       " -9.701823014298\n",
       "  0.40709987447435836\n",
       "  2.791231993605468\n",
       "  6.792438681161421\n",
       "  9.34285537830766\n",
       "  5.795288190702614\n",
       "  3.920813962878004\n",
       "  ⋮\n",
       " -7.503055205511268\n",
       "  9.872175725051665\n",
       " -8.626857487848499\n",
       "  9.067230197335967\n",
       " -0.31326693032862174\n",
       " -7.379486875582819\n",
       "  8.92906452462767\n",
       "  1.4864697055663498\n",
       "  3.5529981519915577"
      ]
     },
     "metadata": {},
     "output_type": "display_data"
    }
   ],
   "source": [
    "n = 100;\n",
    "\n",
    "data_load = load(\"Likelihood_calc_data.jld2\");\n",
    "data = data_load[\"data\"]"
   ]
  },
  {
   "cell_type": "code",
   "execution_count": 25,
   "metadata": {},
   "outputs": [
    {
     "data": {
      "text/plain": [
       "normal_likelihood_calc (generic function with 1 method)"
      ]
     },
     "metadata": {},
     "output_type": "display_data"
    }
   ],
   "source": [
    "using Distributions\n",
    "\n",
    "#  Uniform distribution\n",
    "function uniform_likelihood_calc(data)\n",
    "    a = minimum(data)\n",
    "    b = maximum(data)\n",
    "    dist = Uniform(a, b)\n",
    "    total_likelihood = 1.0 \n",
    "    for point in data\n",
    "        total_likelihood *= pdf(dist, point)\n",
    "    end\n",
    "    return total_likelihood\n",
    "end\n",
    "\n",
    "#  Normal distribution\n",
    "function normal_likelihood_calc(data)\n",
    "    μ = mean(data)\n",
    "    σ = std(data)\n",
    "    dist = Normal(μ, σ)\n",
    "    total_likelihood = 1.0\n",
    "    for point in data\n",
    "        total_likelihood *= pdf(dist, point)\n",
    "    end\n",
    "    return total_likelihood\n",
    "end\n",
    "\n",
    "\n",
    "data = randn(100)  \n",
    "\n",
    "# Calculate likelihoods\n",
    "uniform_likelihood = uniform_likelihood_calc(data)\n",
    "normal_likelihood = normal_likelihood_calc(data)\n",
    "\n",
    "#Calculate ratio of likelihoods\n",
    "ratio_normal_to_uniform = normal_likelihood/uniform_likelihood\n",
    "\n",
    "# Output the results\n",
    "println(\"Uniform Likelihood: \", uniform_likelihood)\n",
    "println(\"Normal Likelihood: \", normal_likelihood)\n",
    "println(\"Ratio of Normal to Uniform Likelihood: \", ratio_normal_to_uniform)\n",
    "\n",
    "\n",
    "# OVERALL WHAT IS LEARNED: It is highly likely that the Normal distribution is a better fit than the Uniform distribution\n"
   ]
  }
 ],
 "metadata": {
  "kernelspec": {
   "display_name": "Julia 1.10.0",
   "language": "julia",
   "name": "julia-1.10"
  },
  "language_info": {
   "file_extension": ".jl",
   "mimetype": "application/julia",
   "name": "julia",
   "version": "1.10.0"
  },
  "orig_nbformat": 4
 },
 "nbformat": 4,
 "nbformat_minor": 2
}
