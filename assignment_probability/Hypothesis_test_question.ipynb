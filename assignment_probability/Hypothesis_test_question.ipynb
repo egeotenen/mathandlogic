{
 "cells": [
  {
   "attachments": {},
   "cell_type": "markdown",
   "metadata": {},
   "source": [
    "\"\"\"\n",
    "In this example you will run a crude, sample based t-test.\n",
    "\n",
    "The code below opens the file \"Hypothesis_test_data.jld2\". The resulting variable \"data\"\n",
    "contains 100 numbers. Your job is to determine whether their mean is different from 0.\n",
    "We're going to do this with a sampling based appraoch. Here is what you should do.\n",
    "\n",
    "1) Calculate the sample variance of the data: σ_sample.\n",
    "2) Create a function that builds a Normal distribution with μ=0 and σ = σ_sample. \n",
    "   So you will now have a normal distribution N(0,σ_sample).\n",
    "   Since our data set is size 'n=100', sample 100 points from this normal distribution.\n",
    "   Calculate the sample mean of these 100 data points.\n",
    "3) This sample mean will be the output of this function. This is a single number.\n",
    "\n",
    "Now call this function 10_000 times to generate 10_000 sample means. Plot a histogram \n",
    "of these distributions. This is the distribution of possible sample means you can expect\n",
    "to get from N(0,σ_sample) if you only draw 100 data points.\n",
    "\n",
    "Now compare this distribution to the sample mean of the data you loaded.\n",
    "What can you conclude?\n",
    "\n",
    "For this question, you should 1) produce the histogram of sample means and 2) at the end\n",
    "of your code, verbally answer the question I pose above.\n",
    "\n",
    "Congradulations, you just ran a t-test!\n",
    "\n",
    "\"\"\""
   ]
  },
  {
   "cell_type": "code",
   "execution_count": 1,
   "metadata": {},
   "outputs": [
    {
     "name": "stderr",
     "output_type": "stream",
     "text": [
      "\u001b[32m\u001b[1m   Resolving\u001b[22m\u001b[39m package versions...\n"
     ]
    },
    {
     "name": "stderr",
     "output_type": "stream",
     "text": [
      "\u001b[32m\u001b[1m  No Changes\u001b[22m\u001b[39m to `~/.julia/environments/v1.10/Project.toml`\n",
      "\u001b[32m\u001b[1m  No Changes\u001b[22m\u001b[39m to `~/.julia/environments/v1.10/Manifest.toml`\n"
     ]
    },
    {
     "name": "stderr",
     "output_type": "stream",
     "text": [
      "\u001b[32m\u001b[1mPrecompiling\u001b[22m\u001b[39m "
     ]
    },
    {
     "name": "stderr",
     "output_type": "stream",
     "text": [
      "project...\n"
     ]
    },
    {
     "name": "stderr",
     "output_type": "stream",
     "text": [
      "┌ Warning: attempting to remove probably stale pidfile\n",
      "│   path = /Users/eotenen/.julia/compiled/v1.10/Plots/ld3vC_Kzo3C.ji.pidfile\n",
      "└ @ FileWatching.Pidfile /Applications/Julia-1.10.app/Contents/Resources/julia/share/julia/stdlib/v1.10/FileWatching/src/pidfile.jl:244\n"
     ]
    },
    {
     "name": "stderr",
     "output_type": "stream",
     "text": [
      "\u001b[32m  ✓ \u001b[39m\u001b[90mWebIO\u001b[39m\n"
     ]
    },
    {
     "name": "stderr",
     "output_type": "stream",
     "text": [
      "\u001b[32m  ✓ \u001b[39m\u001b[90mPlotlyBase\u001b[39m\n"
     ]
    },
    {
     "name": "stderr",
     "output_type": "stream",
     "text": [
      "\u001b[32m  ✓ \u001b[39m\u001b[90mJSExpr\u001b[39m\n"
     ]
    },
    {
     "name": "stderr",
     "output_type": "stream",
     "text": [
      "\u001b[32m  ✓ \u001b[39m\u001b[90mBlink\u001b[39m\n"
     ]
    },
    {
     "name": "stderr",
     "output_type": "stream",
     "text": [
      "\u001b[32m  ✓ \u001b[39mPlotlyJS\n"
     ]
    },
    {
     "name": "stderr",
     "output_type": "stream",
     "text": [
      "\u001b[32m  ✓ \u001b[39mPlots\n"
     ]
    },
    {
     "name": "stderr",
     "output_type": "stream",
     "text": [
      "\u001b[32m  ✓ \u001b[39m\u001b[90mPlots → FileIOExt\u001b[39m\n"
     ]
    },
    {
     "name": "stderr",
     "output_type": "stream",
     "text": [
      "\u001b[32m  ✓ \u001b[39m\u001b[90mPlots → UnitfulExt\u001b[39m\n"
     ]
    },
    {
     "name": "stderr",
     "output_type": "stream",
     "text": [
      "\u001b[32m  ✓ \u001b[39mStatsPlots\n"
     ]
    },
    {
     "name": "stderr",
     "output_type": "stream",
     "text": [
      "  9 dependencies successfully precompiled in 115 seconds. 223 already precompiled.\n",
      "\u001b[32m\u001b[1m   Resolving\u001b[22m\u001b[39m package versions...\n"
     ]
    },
    {
     "name": "stderr",
     "output_type": "stream",
     "text": [
      "\u001b[32m\u001b[1m  No Changes\u001b[22m\u001b[39m to `~/.julia/environments/v1.10/Project.toml`\n",
      "\u001b[32m\u001b[1m  No Changes\u001b[22m\u001b[39m to `~/.julia/environments/v1.10/Manifest.toml`\n"
     ]
    }
   ],
   "source": [
    "import Pkg\n",
    "using Pkg\n",
    "Pkg.add(\"JLD2\")\n",
    "Pkg.add(\"PlotlyJS\")\n",
    "Pkg.add(\"Plots\")\n",
    "Pkg.add(\"load\")\n",
    "Pkg.instantiate()\n",
    "Pkg.status()\n",
    "\n"
   ]
  },
  {
   "cell_type": "code",
   "execution_count": 54,
   "metadata": {},
   "outputs": [
    {
     "ename": "ArgumentError",
     "evalue": "ArgumentError: Package load not found in current path.\n- Run `import Pkg; Pkg.add(\"load\")` to install the load package.",
     "output_type": "error",
     "traceback": [
      "ArgumentError: Package load not found in current path.\n",
      "- Run `import Pkg; Pkg.add(\"load\")` to install the load package.\n",
      "\n",
      "Stacktrace:\n",
      "  [1] macro expansion\n",
      "    @ Base ./loading.jl:1766 [inlined]\n",
      "  [2] macro expansion\n",
      "    @ Base ./lock.jl:267 [inlined]\n",
      "  [3] __require(into::Module, mod::Symbol)\n",
      "    @ Base ./loading.jl:1747\n",
      "  [4] #invoke_in_world#3\n",
      "    @ Base ./essentials.jl:921 [inlined]\n",
      "  [5] invoke_in_world\n",
      "    @ Base ./essentials.jl:918 [inlined]\n",
      "  [6] require(into::Module, mod::Symbol)\n",
      "    @ Base ./loading.jl:1740\n",
      "  [7] eval\n",
      "    @ ./boot.jl:385 [inlined]\n",
      "  [8] include_string(mapexpr::typeof(REPL.softscope), mod::Module, code::String, filename::String)\n",
      "    @ Base ./loading.jl:2070\n",
      "  [9] #invokelatest#2\n",
      "    @ ./essentials.jl:887 [inlined]\n",
      " [10] invokelatest\n",
      "    @ ./essentials.jl:884 [inlined]\n",
      " [11] (::VSCodeServer.var\"#208#209\"{VSCodeServer.NotebookRunCellArguments, String})()\n",
      "    @ VSCodeServer ~/.vscode/extensions/julialang.language-julia-1.66.2/scripts/packages/VSCodeServer/src/serve_notebook.jl:19\n",
      " [12] withpath(f::VSCodeServer.var\"#208#209\"{VSCodeServer.NotebookRunCellArguments, String}, path::String)\n",
      "    @ VSCodeServer ~/.vscode/extensions/julialang.language-julia-1.66.2/scripts/packages/VSCodeServer/src/repl.jl:274\n",
      " [13] notebook_runcell_request(conn::VSCodeServer.JSONRPC.JSONRPCEndpoint{Base.PipeEndpoint, Base.PipeEndpoint}, params::VSCodeServer.NotebookRunCellArguments)\n",
      "    @ VSCodeServer ~/.vscode/extensions/julialang.language-julia-1.66.2/scripts/packages/VSCodeServer/src/serve_notebook.jl:13\n",
      " [14] dispatch_msg(x::VSCodeServer.JSONRPC.JSONRPCEndpoint{Base.PipeEndpoint, Base.PipeEndpoint}, dispatcher::VSCodeServer.JSONRPC.MsgDispatcher, msg::Dict{String, Any})\n",
      "    @ VSCodeServer.JSONRPC ~/.vscode/extensions/julialang.language-julia-1.66.2/scripts/packages/JSONRPC/src/typed.jl:67\n",
      " [15] serve_notebook(pipename::String, outputchannel_logger::Base.CoreLogging.SimpleLogger; crashreporting_pipename::String)\n",
      "    @ VSCodeServer ~/.vscode/extensions/julialang.language-julia-1.66.2/scripts/packages/VSCodeServer/src/serve_notebook.jl:139\n",
      " [16] top-level scope\n",
      "    @ ~/.vscode/extensions/julialang.language-julia-1.66.2/scripts/notebook/notebook.jl:32"
     ]
    }
   ],
   "source": [
    "using Random\n",
    "using Plots\n",
    "using Distributions\n",
    "using JLD2\n",
    "using load\n",
    "using PlotlyJS\n",
    "\n",
    "Random.seed!(1234); "
   ]
  },
  {
   "cell_type": "code",
   "execution_count": 38,
   "metadata": {},
   "outputs": [
    {
     "ename": "MethodError",
     "evalue": "MethodError: objects of type Float64 are not callable\nMaybe you forgot to use an operator such as *, ^, %, / etc. ?",
     "output_type": "error",
     "traceback": [
      "MethodError: objects of type Float64 are not callable\n",
      "Maybe you forgot to use an operator such as *, ^, %, / etc. ?\n",
      "\n",
      "Stacktrace:\n",
      " [1] top-level scope\n",
      "   @ ~/Downloads/Prob_HW_notebooks/Hypothesis_test_question.ipynb:6"
     ]
    }
   ],
   "source": [
    "data_load = load(\"Hypothesis_test_data.jld2\");\n",
    "data = data_load[\"data\"]\n",
    "\n",
    "n = length(data);\n",
    "\n",
    "μ_null = 0.0;\n",
    "sample_σ = std(data, corrected=true);"
   ]
  },
  {
   "cell_type": "code",
   "execution_count": 33,
   "metadata": {},
   "outputs": [
    {
     "data": {
      "text/plain": [
       "single_sample_mean (generic function with 1 method)"
      ]
     },
     "metadata": {},
     "output_type": "display_data"
    }
   ],
   "source": [
    "function single_sample_mean(n,μ_null,sample_σ)\n",
    "    dist = Normal(μ_null, sample_σ)\n",
    "    sample_dist = rand(dist, n)\n",
    "    sample_mean = mean(sample_dist)\n",
    "\n",
    "    return sample_mean\n",
    "end"
   ]
  },
  {
   "cell_type": "code",
   "execution_count": 40,
   "metadata": {},
   "outputs": [
    {
     "ename": "MethodError",
     "evalue": "MethodError: no method matching histogram(::Vector{Float64})\n\nClosest candidates are:\n  histogram(::Any, !Matched::Any, !Matched::Any, !Matched::Any)\n   @ Main ~/Downloads/Prob_HW_notebooks/Hypothesis_test_question.ipynb:7\n",
     "output_type": "error",
     "traceback": [
      "MethodError: no method matching histogram(::Vector{Float64})\n",
      "\n",
      "Closest candidates are:\n",
      "  histogram(::Any, !Matched::Any, !Matched::Any, !Matched::Any)\n",
      "   @ Main ~/Downloads/Prob_HW_notebooks/Hypothesis_test_question.ipynb:7\n",
      "\n",
      "\n",
      "Stacktrace:\n",
      " [1] top-level scope\n",
      "   @ ~/Downloads/Prob_HW_notebooks/Hypothesis_test_question.ipynb:9"
     ]
    }
   ],
   "source": [
    "## Loop over nrep random experiments and calculate nrep sample means\n",
    "nrep = 10_000;\n",
    "means_keep = zeros(nrep); # Fill in this vector with 10_000 sample means\n",
    "for i in 1:nrep\n",
    "     means_keep[i] = single_sample_mean(n,μ_null,sample_σ)\n",
    "\n",
    "end\n",
    "\n",
    "histogram(means_keep) # This does the plotting\n",
    "\n",
    "\n",
    "\n",
    "\n"
   ]
  },
  {
   "cell_type": "code",
   "execution_count": 51,
   "metadata": {},
   "outputs": [
    {
     "data": {
      "text/plain": [
       "10000-element Vector{Float64}:\n",
       " -0.22433871495227517\n",
       " -0.18708219740462576\n",
       "  0.6101122142023616\n",
       " -0.29185747845105836\n",
       "  0.04293971461436846\n",
       " -0.3329100787234727\n",
       "  0.26057145584490427\n",
       " -0.0951647835516228\n",
       "  0.49049522335106155\n",
       "  0.2834617985449004\n",
       "  ⋮\n",
       "  0.45222768904501925\n",
       "  0.11783452833799092\n",
       "  0.02015436815568169\n",
       " -0.3439745301346302\n",
       "  0.08362391745610268\n",
       " -0.08158380055448383\n",
       " -0.03466725110891896\n",
       " -0.8361754016793428\n",
       "  0.6032169228831653"
      ]
     },
     "metadata": {},
     "output_type": "display_data"
    }
   ],
   "source": [
    "histogram(100,0.0, 4.794249985256364,10_000)"
   ]
  },
  {
   "cell_type": "code",
   "execution_count": 12,
   "metadata": {},
   "outputs": [],
   "source": [
    "\"\"\"\n",
    "What do you conclude? Write this here.\n",
    " \n",
    "\n",
    "def dist_mean(n):\n",
    "    std  = var(data)\n",
    "    mean = 0.0\n",
    "    dist = Normal(mean, std)\n",
    "    mydata = rand(dist, n)\n",
    "    return mean(mydata)\n",
    "\n",
    "\n",
    "    dist_mean(100)\n",
    "\n",
    "\"\"\""
   ]
  },
  {
   "cell_type": "code",
   "execution_count": 13,
   "metadata": {},
   "outputs": [],
   "source": []
  },
  {
   "cell_type": "code",
   "execution_count": null,
   "metadata": {},
   "outputs": [],
   "source": []
  }
 ],
 "metadata": {
  "kernelspec": {
   "display_name": "Julia 1.10.0",
   "language": "julia",
   "name": "julia-1.10"
  },
  "language_info": {
   "file_extension": ".jl",
   "mimetype": "application/julia",
   "name": "julia",
   "version": "1.10.0"
  },
  "orig_nbformat": 4
 },
 "nbformat": 4,
 "nbformat_minor": 2
}
