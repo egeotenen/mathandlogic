{
 "cells": [
  {
   "attachments": {},
   "cell_type": "markdown",
   "metadata": {},
   "source": [
    "## Regression two ways\n",
    "\n",
    "In this problem, you are going to solve a simple linear regression problem. In the cells below, I have some code to generate data from a random mode \n",
    "\n",
    "$$ y = c_0 + c_1 x_1 + c_2 x_2 + c_3 x_3 + 0.5 * \\eta $$\n",
    "\n",
    "In this case, you know the ground truth generating model and we are generating some data out of it. Your job is to start with the data, and see if you can recover the generating linear coefficients. You will do this two ways.\n",
    "\n",
    "1) Use the Moore Penrose inverse. See the notes for exactly what this is.\n",
    "\n",
    "2) Use the SVD approach.\n",
    "\n",
    "Both should yield the same coefficients up to numerical error and the should be quite close to the generating coeffecients.\n",
    "\n",
    "\n"
   ]
  },
  {
   "cell_type": "code",
   "execution_count": 3,
   "metadata": {},
   "outputs": [],
   "source": [
    "using Pkg\n",
    "using LinearAlgebra\n",
    "using Plots\n",
    "using Statistics"
   ]
  },
  {
   "cell_type": "code",
   "execution_count": 9,
   "metadata": {},
   "outputs": [
    {
     "data": {
      "text/plain": [
       "100-element Vector{Float64}:\n",
       " 9.316182602054843\n",
       " 5.970141961203163\n",
       " 8.675811421307934\n",
       " 4.266017022771447\n",
       " 4.984635561722619\n",
       " 9.633830921165726\n",
       " 3.0810933187788043\n",
       " 7.070405181961871\n",
       " 3.1740923381534913\n",
       " 6.614419603262718\n",
       " ⋮\n",
       " 4.0119533808432895\n",
       " 2.7398273025172513\n",
       " 6.636907337278942\n",
       " 6.65362941956435\n",
       " 8.162224115886197\n",
       " 7.7857883406149195\n",
       " 2.870148587810135\n",
       " 8.178610832824315\n",
       " 3.07086680725207"
      ]
     },
     "metadata": {},
     "output_type": "display_data"
    }
   ],
   "source": [
    "x1, x2, x3= rand(100), rand(100), rand(100)\n",
    "x0 = ones(size(x1))\n",
    "c0, c1, c2, c3 = 4.0, 1.5 , -2.0 , 5.1;\n",
    "y = c0 .+ c1.*x1 + c2.*x2 +c3.*x3 + 0.5.*randn(100) # Note the randn here. The noise should be normal!!!"
   ]
  },
  {
   "cell_type": "code",
   "execution_count": 10,
   "metadata": {},
   "outputs": [
    {
     "name": "stdout",
     "output_type": "stream",
     "text": [
      "Coefficients from Moore-Penrose Inverse:\n",
      "[3.845779135870971, 1.6729158562565316, -2.049170884991899, 5.365147695468075]\n"
     ]
    }
   ],
   "source": [
    "# Construct a X matrix\n",
    "\n",
    "X = hcat(x0, x1, x2, x3)\n",
    "\n",
    "\n",
    "# Moore-Penrose inverse\n",
    "X_plus = pinv(X)\n",
    "\n",
    "# Coeffiecient vector\n",
    "c_hat_mp = X_plus * y\n",
    "\n",
    "println(\"Coefficients from Moore-Penrose Inverse:\")\n",
    "println(c_hat_mp)\n"
   ]
  },
  {
   "cell_type": "code",
   "execution_count": 11,
   "metadata": {},
   "outputs": [
    {
     "name": "stdout",
     "output_type": "stream",
     "text": [
      "Coefficients from SVD:\n",
      "[3.8457791358709716, 1.6729158562565312, -2.0491708849918995, 5.365147695468075]\n"
     ]
    }
   ],
   "source": [
    "# SVD solution\n",
    "U, S, V = svd(X)\n",
    "c_hat_svd = V * (Diagonal(1 ./ S) * (U' * y))\n",
    "\n",
    "println(\"Coefficients from SVD:\")\n",
    "println(c_hat_svd)\n"
   ]
  }
 ],
 "metadata": {
  "kernelspec": {
   "display_name": "Julia 1.10.0",
   "language": "julia",
   "name": "julia-1.10"
  },
  "language_info": {
   "file_extension": ".jl",
   "mimetype": "application/julia",
   "name": "julia",
   "version": "1.10.0"
  },
  "orig_nbformat": 4
 },
 "nbformat": 4,
 "nbformat_minor": 2
}
