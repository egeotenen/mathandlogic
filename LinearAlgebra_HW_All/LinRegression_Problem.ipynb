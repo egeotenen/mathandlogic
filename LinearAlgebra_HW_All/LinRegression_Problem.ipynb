{
 "cells": [
  {
   "attachments": {},
   "cell_type": "markdown",
   "metadata": {},
   "source": [
    "## Regression two ways\n",
    "\n",
    "In this problem, you are going to solve a simple linear regression problem. In the cells below, I have some code to generate data from a random mode \n",
    "\n",
    "$$ y = c_0 + c_1 x_1 + c_2 x_2 + c_3 x_3 + 0.5 * \\eta $$\n",
    "\n",
    "In this case, you know the ground truth generating model and we are generating some data out of it. Your job is to start with the data, and see if you can recover the generating linear coefficients. You will do this two ways.\n",
    "\n",
    "1) Use the Moore Penrose inverse. See the notes for exactly what this is.\n",
    "\n",
    "2) Use the SVD approach.\n",
    "\n",
    "Both should yield the same coefficients up to numerical error and the should be quite close to the generating coeffecients."
   ]
  },
  {
   "cell_type": "code",
   "execution_count": 1,
   "metadata": {},
   "outputs": [
    {
     "name": "stderr",
     "output_type": "stream",
     "text": [
      "\u001b[32m\u001b[1m  Activating\u001b[22m\u001b[39m project at `~/Dropbox/All_Work_Files/Teaching/2024/Q520/HW/Q520_Winter24_Env`\n"
     ]
    }
   ],
   "source": [
    "using Pkg\n",
    "Pkg.activate(\"../Q520_Winter24_Env/\")\n",
    "\n",
    "using LinearAlgebra\n",
    "using Plots\n",
    "using Statistics"
   ]
  },
  {
   "cell_type": "code",
   "execution_count": 24,
   "metadata": {},
   "outputs": [
    {
     "data": {
      "text/plain": [
       "100-element Vector{Float64}:\n",
       " 7.202023740484977\n",
       " 6.175557584454172\n",
       " 5.9826312913159345\n",
       " 5.886748962052917\n",
       " 8.58179678621973\n",
       " 5.527610385240676\n",
       " 5.200535569933683\n",
       " 8.019896318113949\n",
       " 3.0871273640229826\n",
       " 5.852296619238019\n",
       " ⋮\n",
       " 6.510885019303206\n",
       " 5.660006782105343\n",
       " 8.392603851314052\n",
       " 5.314630060499305\n",
       " 6.295334724391937\n",
       " 5.240187384925475\n",
       " 5.0827768069052865\n",
       " 7.077318470957593\n",
       " 6.257268939288825"
      ]
     },
     "metadata": {},
     "output_type": "display_data"
    }
   ],
   "source": [
    "x1, x2, x3= rand(100), rand(100), rand(100)\n",
    "x0 = ones(size(x1))\n",
    "c0, c1, c2, c3 = 4.0, 1.5 , -2.0 , 5.1;\n",
    "y = c0 .+ c1.*x1 + c2.*x2 +c3.*x3 + 0.5.*randn(100) # Note the randn here. The noise should be normal!!!"
   ]
  },
  {
   "cell_type": "code",
   "execution_count": 1,
   "metadata": {},
   "outputs": [],
   "source": [
    "# Construct a X matrix, and use the Moore Penrose inverse to compute the solution\n"
   ]
  },
  {
   "cell_type": "code",
   "execution_count": 2,
   "metadata": {},
   "outputs": [],
   "source": [
    "# Use the SVD approach to compute the regression coeffecients\n"
   ]
  },
  {
   "cell_type": "code",
   "execution_count": 3,
   "metadata": {},
   "outputs": [],
   "source": []
  },
  {
   "cell_type": "code",
   "execution_count": null,
   "metadata": {},
   "outputs": [],
   "source": []
  }
 ],
 "metadata": {
  "kernelspec": {
   "display_name": "Julia 1.9.4",
   "language": "julia",
   "name": "julia-1.9"
  },
  "language_info": {
   "file_extension": ".jl",
   "mimetype": "application/julia",
   "name": "julia",
   "version": "1.9.4"
  },
  "orig_nbformat": 4
 },
 "nbformat": 4,
 "nbformat_minor": 2
}
