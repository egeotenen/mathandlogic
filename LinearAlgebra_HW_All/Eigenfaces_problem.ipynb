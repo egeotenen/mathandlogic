{
 "cells": [
  {
   "attachments": {},
   "cell_type": "markdown",
   "metadata": {},
   "source": [
    "## Eigenfaces\n",
    "\n",
    "This problem is a bit more challenging and as such, will not count as much on the HW (points wise). For more information on this problem, see my course notes.\n",
    "\n",
    "While we are extremely good at distinguishing faces (most of us), different faces share much in common. We obviously have two eyes, a nose, etc.. But how can we get a compute to find a set of features that describe faces? And how can we use these to dimensionaly compress faces? One of the early techniques to do this utilized the SVD.\n",
    "\n",
    "In the following, I have provided code to import ~2k faces from the Yale faces database. You will need to import some packages below. This imports the data into a 2339x192x192 matrix. The first index is the number of faces and the second indices are the size of the image in pixels (192x192). Since this type of 3D matrix is not of use to us, we will need to unwrap each 2D image into a 1D image of pixels. I have provided some utility functions below to unwrap the images into vectors and to reformat them into matrices. The vectors are useful for analysis while we need them in 2D matrix form for plotting the faces themselves. All linear algebra will happen on the 2339x36864 matrix (2D) of vector faces while all plotting will happen on the 2339x192x192 matrix (3D).\n",
    "\n",
    "Your job is the following. We will be using the SVD to break this database of faces into features, discard less important features, and reconstruct the faces from these lower dimensional representations.\n",
    "\n",
    "1) Just plot a face or two to get a sense of what these images look like.\n",
    "2) Compute the \"mean face\". If each face is a 2D matrix, just calculate the mean of all the 2D matrices. Plot this just to get a sense of what it looks like.\n",
    "3) Subtract that mean face from each individual face. This is mean centering. Plot a mean centered face just to get a sense of what it looks like.\n",
    "4) Take this mean centered collection of faces and transform them from a 3D to a 2D matrix as discussed above. This is what we will need for the SVD.\n",
    "5) Compute the SVD.\n",
    "6) Plot the singular values. We are trying to see how quickly they decrease in magnitude.\n",
    "7) Plot a few eigenfaces. Remember, the eigenfaces are the column vectors of V. To plot the n-th eigenface, extract the n-th column of V, reshape it into a 2D matrix, then plot that.\n",
    "8) Now lets compress the data. We are only going to keep the first 500 dimensions of the SVD. We worked with this in one of the other HW problems so I won't go into as much detail here. Remove all but the first 500 columns of U and V, and all but the first 500 singular values of D. Recompute the SVD to get a new 2339x36864 matrix (2D) of faces. Note, that before computing the SVD, we subtracted the \"mean face\" from each face. The recomputed compressed SVD thus compresses these faces in the \"mean centered\" sense. To get true faces back, we need to take each recomputed face in this recomputed SVD, and add the mean face back to it. Lets call the original matrix of faces X and the new one Xstar (after adding the mean face back).\n",
    "9) Lets look at the first face. Plot the first face contained in X and the first face contained in Xstar. You may have to reshape these back into a 2D (192x192) matrix for plotting. They should look very similar.\n"
   ]
  },
  {
   "cell_type": "code",
   "execution_count": null,
   "metadata": {},
   "outputs": [],
   "source": [
    "using Pkg\n",
    "Pkg.status()\n",
    "#Pkg.add(\"Images\")\n",
    "#Pkg.add(\"ImageFeatures\")\n",
    "#Pkg.add(\"BenchmarkTools\")\n",
    "\n",
    "\n",
    "using Images, ImageFeatures \n",
    "using LinearAlgebra\n",
    "using BenchmarkTools\n",
    "using Plots"
   ]
  },
  {
   "cell_type": "code",
   "execution_count": null,
   "metadata": {},
   "outputs": [],
   "source": [
    "# Pull in the data. This will produce a 2339x192x192 matrix where there are \n",
    "# 2339 images each of size 192x192.\n",
    "dim = 192\n",
    "\n",
    "raw_imgs = zeros(2339, dim, dim);\n",
    "path_train = \"./Faces_datasets/\";\n",
    "count = 1\n",
    "for directory = readdir(path_train)\n",
    "    if directory == \".DS_Store\" # My computer puts this in my directory and we need to skip it.\n",
    "        continue\n",
    "    end\n",
    "    \n",
    "    for file = readdir(path_train*directory)\n",
    "        # println(path_train*directory*\"/\"*file)\n",
    "        raw_imgs[count,:,:] =  load(path_train*directory*\"/\"*file)\n",
    "        count += 1\n",
    "    end\n",
    "end"
   ]
  },
  {
   "cell_type": "code",
   "execution_count": null,
   "metadata": {},
   "outputs": [],
   "source": [
    "# Show one face\n",
    "p1 = Gray.(raw_imgs[1,:,:]) "
   ]
  },
  {
   "cell_type": "code",
   "execution_count": null,
   "metadata": {},
   "outputs": [],
   "source": [
    "mean_face = mean(raw_imgs, dims=1)\n",
    "mean_face = reshape(mean_face, 192, 192)\n",
    "p2 = Gray.(mean_face)\n",
    "\n",
    "\n",
    "# Subtract the mean face from each of the individual faces\n",
    "for i = 1:size(raw_imgs)[1]\n",
    "    raw_imgs[i,:,:] = raw_imgs[i,:,:] .- mean_face\n",
    "end\n",
    "\n",
    "#Take this mean centered collection of faces and transform them from a 3D to a 2D matrix as discussed above. This is what we will need for the SVD.\n",
    "X = reshape(raw_imgs, size(raw_imgs)[1], size(raw_imgs)[2]*size(raw_imgs)[3])"
   ]
  },
  {
   "cell_type": "code",
   "execution_count": null,
   "metadata": {},
   "outputs": [],
   "source": [
    "# After analysis, we will need to convert the image vectors back to image matrices for plotting.\n",
    "# This takes the previous transform in reverse.\n",
    "function reshape_face_2D(matrix)\n",
    "    dims = size(matrix)\n",
    "    return reshape(matrix, (dims[1], trunc(Int64, sqrt(dims[2])), trunc(Int64, sqrt(dims[2]))))\n",
    "end\n",
    "\n",
    "\n",
    "\n",
    "# Perform the SVD on the mean centered faces\n",
    "U, S, V = svd(X)\n",
    "\n",
    "# Plot the first 10 eigenfaces\n",
    "eigenfaces = reshape_face_2D(V[1:10,:])\n",
    "size(eigenfaces)\n",
    "#p3 = plot(Gray.(eigenfaces[1,:,:]), layout=(2,5), title=\"First 10 Eigenfaces\", size=(800,400))\n",
    "\n"
   ]
  },
  {
   "cell_type": "code",
   "execution_count": null,
   "metadata": {},
   "outputs": [],
   "source": [
    "\n",
    "\n",
    "# Example plot of a mean-centered face\n",
    "p_mean_centered = Gray.(mean_centered_imgs[1, :, :])\n",
    "plot(p_mean_centered)\n",
    "\n",
    "# 4) Transform from 3D to 2D matrix for SVD\n",
    "\n",
    "function reshape_face_1D(matrix)\n",
    "    dims = size(matrix)\n",
    "    return reshape(matrix, (dims[1], dims[2]*dims[3]))\n",
    "end\n",
    "\n",
    "X = reshape_face_1D(mean_centered_imgs)\n",
    "\n",
    "# 5) Compute SVD\n",
    "U, S, Vt = svd(X)\n",
    "\n",
    "# 6) Plot the singular values\n",
    "plot(S, yscale=:log10, title=\"Singular Values\", xlabel=\"Index\", ylabel=\"Value\")\n",
    "\n",
    "# 7) Plot a few eigenfaces\n",
    "function plot_eigenface(V, n)\n",
    "    eigenface = reshape_face_2D(V[:, n])\n",
    "    p_eigen = Gray.(eigenface)\n",
    "    plot(p_eigen)\n",
    "end\n",
    "\n",
    "# Plot the first 3 eigenfaces\n",
    "plot_eigenface(Vt', 1)\n",
    "plot_eigenface(Vt', 2)\n",
    "plot_eigenface(Vt', 3)\n",
    "\n",
    "#Compress the data and keep only the first 500 dimensions\n",
    "Ustar = U[:, 1:500]\n",
    "Sstar = S[1:500]\n",
    "Vstar = Vt[1:500, :]'\n",
    "\n",
    "# Recompute the SVD to get a new matrix of faces\n",
    "Xstar = Ustar * Diagonal(Sstar) * Vstar\n",
    "\n",
    "end\n",
    "\n",
    "# Call the function to compare the first face from the original and reconstructed data\n",
    "compare_faces(X, Xstar_reconstructed, 1)\n",
    "\n",
    "# Ensure mean_face is a vector for the addition\n",
    "mean_face_vector = reshape(mean_face_2d, 192*192)\n",
    "\n",
    "# Add the mean face back to each reconstructed face\n",
    "Xstar_reconstructed = eachrow(Xstar) .+ mean_face_vector\n",
    "\n",
    "\n",
    "function reshape_face_2D(matrix)\n",
    "    dims = size(matrix)\n",
    "    return reshape(matrix, (dims[1], trunc(Int64, sqrt(dims[2])), trunc(Int64, sqrt(dims[2]))))\n",
    "end\n",
    "# Function to compare faces might need adjustment based on the specific error context\n",
    "# Here's an example assuming Xstar_reconstructed and the original data need reshaping\n",
    "function compare_faces(original_idx, reconstructed_idx)\n",
    "    original_face = reshape_face_2D(original[original_idx, :])\n",
    "    reconstructed_face = reshape_face_2D(reconstructed[reconstructed_idx, :])\n",
    "    plot(layout=(1, 2), size=(600, 300))\n",
    "    plot!(subplot=1, Gray.(original_face))\n",
    "    plot!(subplot=2, Gray.(reconstructed_face))\n",
    "end\n",
    "\n",
    "# Comparing the first original and reconstructed face\n",
    "compare_faces(1, 1)\n"
   ]
  },
  {
   "cell_type": "code",
   "execution_count": null,
   "metadata": {},
   "outputs": [],
   "source": [
    "# Utility functions. These functions convert the entire collection of faces back and forth at once.\n",
    "# They do not convert them one face at a time.\n",
    "\n",
    "# When we store a bank of images, each one of them needs to be converted from a 192x192 square \n",
    "# to a 1x36864 row vector. So we go from having a 3-Dim matrix to a 2-Dim matrix\n",
    "function reshape_face_1D(matrix)\n",
    "    dims = size(matrix)\n",
    "    return reshape(matrix, (dims[1], dims[2]*dims[3]))\n",
    "end\n",
    "\n",
    "# After analysis, we will need to convert the image vectors back to image matrices for plotting.\n",
    "# This takes the previous transform in reverse.\n",
    "function reshape_face_2D(matrix)\n",
    "    dims = size(matrix)\n",
    "    return reshape(matrix, (dims[1], trunc(Int64, sqrt(dims[2])), trunc(Int64, sqrt(dims[2]))))\n",
    "end"
   ]
  },
  {
   "cell_type": "code",
   "execution_count": null,
   "metadata": {},
   "outputs": [],
   "source": [
    "# Reshape the 3D faces matrix into a 2D faces matrix\n",
    "\n",
    "# Calculate the SVD. This takes 20-60 seconds.\n",
    "\n",
    "# V containes the \"eigenfaces\". We need to convert these from a 2D --> 3D matrix for plotting.\n",
    "eigenfaces = reshape_face_2D(V'); # The eigenfaces\n",
    "\n"
   ]
  },
  {
   "cell_type": "code",
   "execution_count": null,
   "metadata": {},
   "outputs": [],
   "source": [
    "# Plot a few eigenfaces. Note that the ones associated with larger singular values have structure\n",
    "# while the ones with lower singular values have less structure. # This is expected since low \n",
    "# singular values are more associated with noise.\n",
    "\n",
    "# Plot 2, 3, 100, 2100\n",
    "# Note that it is useful to scale all the eigenfaces to the [0,1] interval for visual purposes.\n",
    "Gray.(eigenfaces[plot_ind,:,:] ./ maximum(eigenfaces[plot_ind,:,:])) "
   ]
  },
  {
   "cell_type": "code",
   "execution_count": null,
   "metadata": {},
   "outputs": [],
   "source": [
    "# Plot singular values and show that they go way down.\n",
    "#plot( INSERT SINGULAR VALUES HERE ,yscale = :log10 , ylimits = (10^-4,10^4));\n",
    "xlabel!(\"Singular Value #\");\n",
    "ylabel!(\"Singular Value magnitude\")"
   ]
  },
  {
   "cell_type": "code",
   "execution_count": null,
   "metadata": {},
   "outputs": [],
   "source": [
    "# Let's perform compression. We're going to keep the 500 largest singular values and eigenfaces.\n",
    "# Truncate U, Σ, and V to 500 dimensions. Multiply these together. The resulting matrix is a compressed\n",
    "# version of your raw faces. We need to reshape these reduced faces to 2D (for each face) and add the \n",
    "# previously subtracted mean face back on.\n",
    "\n",
    "# Note that the svd function produces the singular values as a vector. You need to truncate this vector\n",
    "# to 500 values, then turn it into a diagonal matrix. You can use the Diagonal() function for this.\n",
    "\n",
    "# n_eigen = 500\n",
    "# ...\n",
    "# ...\n",
    "# reduced_faces = reshape_face_2D(X_red);\n",
    "# Gray.(reduced_faces[1,:,:] .+ mean_face) # Plot the first reduced face\n"
   ]
  },
  {
   "cell_type": "code",
   "execution_count": null,
   "metadata": {},
   "outputs": [],
   "source": [
    "Gray.(raw_imgs[1,:,:]) # Plot the raw image for the first face"
   ]
  },
  {
   "cell_type": "code",
   "execution_count": null,
   "metadata": {},
   "outputs": [],
   "source": []
  },
  {
   "cell_type": "code",
   "execution_count": null,
   "metadata": {},
   "outputs": [],
   "source": [
    "\n"
   ]
  },
  {
   "cell_type": "code",
   "execution_count": null,
   "metadata": {},
   "outputs": [],
   "source": []
  }
 ],
 "metadata": {
  "kernelspec": {
   "display_name": "Julia 1.10.0",
   "language": "julia",
   "name": "julia-1.10"
  },
  "language_info": {
   "file_extension": ".jl",
   "mimetype": "application/julia",
   "name": "julia",
   "version": "1.10.0"
  },
  "orig_nbformat": 4
 },
 "nbformat": 4,
 "nbformat_minor": 2
}
