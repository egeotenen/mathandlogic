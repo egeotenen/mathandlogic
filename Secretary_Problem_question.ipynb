{
 "cells": [
  {
   "attachments": {},
   "cell_type": "markdown",
   "metadata": {},
   "source": [
    "\"\"\"\n",
    "Here I want you to write a code that will solve the secretary problem.\n",
    "\n",
    "In this discussion, n = number of applicants and r = information gathering\n",
    "cutoff. That is, you will sample the first r-1. Of those, you will find the \n",
    "best candidate and record their score (qr). You will then continue to sample the\n",
    "remainder of the candidates until you find one that is better than qr. \n",
    "This is the one you will choose. The question then becomes, did you find the best\n",
    "candidate?\n",
    "\n",
    "Below I provide some initial code to take a value or (n) and produce a random \n",
    "sequence of candidate scores (no two are the same).\n",
    "\n",
    "I want you to write a function loop_strategy_r(n) that does the following.\n",
    "1) Takes in (n) and produces the number of candidates.\n",
    "2) Loops over (r) and for each (r), implements selection strategy with cutoff r-1.\n",
    "3) Records whether you chose the best candidate for that r and that simulation.\n",
    "4) Runs that simulation, for each r, 10_000 times.\n",
    "5) For each r, returns P(r), the probability that r-value will lead to you hiring the best candidate.\n",
    "\n",
    "So you will run ~10_000*99 simulations (99 r vals and 10_000).\n",
    "\n",
    "This function loop_strategy_r(n), for n=99 will should return a vector of 100 probabilities.\n",
    "P(r) for each r=2:100 that is. Since you reject the first r-1 candidates, r=1 doesn't make sense.\n",
    "\n",
    "\"\"\""
   ]
  },
  {
   "cell_type": "code",
   "execution_count": 12,
   "metadata": {},
   "outputs": [
    {
     "name": "stdout",
     "output_type": "stream",
     "text": [
      "\u001b[32m\u001b[1mStatus\u001b[22m\u001b[39m `~/.julia/environments/v1.10/Project.toml`\n",
      "  \u001b[90m[31c24e10] \u001b[39mDistributions v0.25.107\n",
      "  \u001b[90m[033835bb] \u001b[39mJLD2 v0.4.45\n",
      "  \u001b[90m[f0f68f2c] \u001b[39mPlotlyJS v0.18.12\n",
      "  \u001b[90m[91a5bcdd] \u001b[39mPlots v1.40.0\n",
      "  \u001b[90m[f3b207a7] \u001b[39mStatsPlots v0.15.6\n"
     ]
    }
   ],
   "source": [
    "using Pkg\n",
    "Pkg.instantiate()\n",
    "Pkg.status()"
   ]
  },
  {
   "cell_type": "code",
   "execution_count": 13,
   "metadata": {},
   "outputs": [],
   "source": [
    "using Random\n",
    "using Plots\n",
    "\n",
    "Random.seed!(45461); # Good practice"
   ]
  },
  {
   "cell_type": "code",
   "execution_count": 14,
   "metadata": {},
   "outputs": [],
   "source": [
    "n=100; # Number of total applicants"
   ]
  },
  {
   "cell_type": "code",
   "execution_count": null,
   "metadata": {},
   "outputs": [],
   "source": [
    "\"\"\"\n",
    "Here I want you to write a code that will solve the secretary problem.\n",
    "\n",
    "In this discussion, n = number of applicants and r = information gathering\n",
    "cutoff. That is, you will sample the first r-1. Of those, you will find the \n",
    "best candidate and record their score (qr). You will then continue to sample the\n",
    "remainder of the candidates until you find one that is better than qr. \n",
    "This is the one you will choose. The question then becomes, did you find the best\n",
    "candidate?\n",
    "\n",
    "Below I provide some initial code to take a value or (n) and produce a random \n",
    "sequence of candidate scores (no two are the same).\n",
    "\n",
    "I want you to write a function loop_strategy_r(n) that does the following.\n",
    "1) Takes in (n) and produces the number of candidates.\n",
    "2) Loops over (r) and for each (r), implements selection strategy with cutoff r-1.\n",
    "3) Records whether you chose the best candidate for that r and that simulation.\n",
    "4) Runs that simulation, for each r, 10_000 times.\n",
    "5) For each r, returns P(r), the probability that r-value will lead to you hiring the best candidate.\n",
    "\n",
    "So you will run ~10_000*99 simulations (99 r vals and 10_000).\n",
    "\n",
    "This function loop_strategy_r(n), for n=99 will should return a vector of 100 probabilities.\n",
    "P(r) for each r=2:100 that is. Since you reject the first r-1 candidates, r=1 doesn't make sense.\n",
    "\n",
    "\"\"\""
   ]
  },
  {
   "cell_type": "code",
   "execution_count": 15,
   "metadata": {},
   "outputs": [
    {
     "data": {
      "text/plain": [
       "Gen_Applicant_Score_Vec (generic function with 1 method)"
      ]
     },
     "metadata": {},
     "output_type": "display_data"
    }
   ],
   "source": [
    "# This function takes applicant number (n) and produces a\n",
    "# randomized set of scores where no two are equal\n",
    "function Gen_Applicant_Score_Vec(n)\n",
    "    score_vec = Vector(1:n); # This is ordered. Need to random permute it\n",
    "    score_shuffled = shuffle(score_vec)\n",
    "    return score_shuffled\n",
    "end"
   ]
  },
  {
   "cell_type": "code",
   "execution_count": 23,
   "metadata": {},
   "outputs": [
    {
     "data": {
      "text/plain": [
       "98-element Vector{Float64}:\n",
       " 0.049\n",
       " 0.0837\n",
       " 0.1102\n",
       " 0.1378\n",
       " 0.1588\n",
       " 0.1705\n",
       " 0.1951\n",
       " 0.2043\n",
       " 0.2233\n",
       " 0.2315\n",
       " ⋮\n",
       " 0.0837\n",
       " 0.0779\n",
       " 0.073\n",
       " 0.0583\n",
       " 0.0459\n",
       " 0.0422\n",
       " 0.0298\n",
       " 0.0195\n",
       " 0.0089"
      ]
     },
     "metadata": {},
     "output_type": "display_data"
    }
   ],
   "source": [
    "function loop_strategy_r(n)\n",
    "    probabilities = Float64[]\n",
    "\n",
    "    for r in 2:n\n",
    "        success_count = 0\n",
    "\n",
    "        for simulation in 1:10_000\n",
    "            # Step 2a: Shuffle the candidates\n",
    "            candidates = Gen_Applicant_Score_Vec(n)\n",
    "\n",
    "            # Step 2b: Find the best score in the first r-1 candidates\n",
    "            best_of_sample = maximum(candidates[1:r-1])\n",
    "            selected_candidate = 0\n",
    "            # Step 2c: Find the first candidate better than the best_of_sample\n",
    "            for i in r:n\n",
    "                if candidates[i] > best_of_sample\n",
    "                    selected_candidate = candidates[i]\n",
    "                    break\n",
    "                end\n",
    "            end\n",
    "\n",
    "            # Step 2d and 2e: Check if selected candidate is the best and increment success count\n",
    "            if selected_candidate == n # If the selected candidate is the best\n",
    "                success_count += 1\n",
    "            end\n",
    "        end\n",
    "\n",
    "        # Calculate the probability for this r\n",
    "        probability = success_count / 10000\n",
    "        push!(probabilities, probability)\n",
    "    end\n",
    "\n",
    "    return probabilities\n",
    "end\n",
    "\n",
    "# Example usage\n",
    "win_tracking = loop_strategy_r(99)\n"
   ]
  },
  {
   "cell_type": "code",
   "execution_count": 24,
   "metadata": {},
   "outputs": [],
   "source": [
    "##### The code below will plot your output against the theoretical result.\n",
    "win_tracking = loop_strategy_r(10_000)\n",
    "\n",
    "# Plot probability of finding best candidate versus r\n",
    "# Also plot the theoretical maximum value of r\n",
    "plot(win_tracking);\n",
    "plot!([n/exp(1) , n/exp(1)] , [0.0,maximum(win_tracking)])\n",
    "xlabel!(\"Cutoff (r)\")\n",
    "ylabel!(\"Probability of Choosing Best\")"
   ]
  }
 ],
 "metadata": {
  "kernelspec": {
   "display_name": "Julia 1.10.0",
   "language": "julia",
   "name": "julia-1.10"
  },
  "language_info": {
   "file_extension": ".jl",
   "mimetype": "application/julia",
   "name": "julia",
   "version": "1.10.0"
  },
  "orig_nbformat": 4
 },
 "nbformat": 4,
 "nbformat_minor": 2
}
