{
 "cells": [
  {
   "attachments": {},
   "cell_type": "markdown",
   "metadata": {},
   "source": [
    "# Simple String Entropy\n",
    "\n",
    "Calculate the entropy of the following string ('aabcddddefffgaaacccii')\n",
    "\n"
   ]
  },
  {
   "cell_type": "code",
   "execution_count": 1,
   "metadata": {},
   "outputs": [
    {
     "name": "stdout",
     "output_type": "stream",
     "text": [
      "aabcddddefffgaaacccii\n"
     ]
    }
   ],
   "source": [
    "st = \"aabcddddefffgaaacccii\"  # input string\n",
    "println(st)"
   ]
  },
  {
   "cell_type": "code",
   "execution_count": 2,
   "metadata": {},
   "outputs": [
    {
     "name": "stdout",
     "output_type": "stream",
     "text": [
      "Alphabet of symbols in the string:\n"
     ]
    },
    {
     "name": "stdout",
     "output_type": "stream",
     "text": [
      "Set(['f', 'a', 'c', 'd', 'e', 'g', 'i', 'b'])\n",
      "Shannon entropy Log2:\n",
      "2.7559113286549373\n",
      "Shannon entropy, Loge:\n",
      "1.9102521673303827\n"
     ]
    }
   ],
   "source": [
    "\n",
    "\n",
    "println(\"Shannon entropy, Loge:\")\n",
    "println(ent)"
   ]
  },
  {
   "cell_type": "code",
   "execution_count": null,
   "metadata": {},
   "outputs": [],
   "source": []
  }
 ],
 "metadata": {
  "kernelspec": {
   "display_name": "Julia 1.10.0",
   "language": "julia",
   "name": "julia-1.10"
  },
  "language_info": {
   "file_extension": ".jl",
   "mimetype": "application/julia",
   "name": "julia",
   "version": "1.10.0"
  },
  "orig_nbformat": 4
 },
 "nbformat": 4,
 "nbformat_minor": 2
}
